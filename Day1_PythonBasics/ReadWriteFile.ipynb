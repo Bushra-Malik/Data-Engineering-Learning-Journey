{
 "cells": [
  {
   "cell_type": "markdown",
   "metadata": {},
   "source": [
    "##### **Write basic input/output operations.**"
   ]
  },
  {
   "cell_type": "markdown",
   "metadata": {},
   "source": [
    "### **Input Operations**\n",
    "Input operations in Python allow users to provide data to the program. There are several methods to read input:\n",
    "\n",
    "Using input() function:\n",
    "\n",
    "This function reads a single line from input and returns it as a string."
   ]
  },
  {
   "cell_type": "code",
   "execution_count": 1,
   "metadata": {},
   "outputs": [
    {
     "name": "stdout",
     "output_type": "stream",
     "text": [
      "Hello, Bushra!\n"
     ]
    }
   ],
   "source": [
    "name = input(\"Enter your name: \")\n",
    "print(f\"Hello, {name}!\")"
   ]
  },
  {
   "cell_type": "markdown",
   "metadata": {},
   "source": [
    "Reading multiple inputs:\n",
    "\n",
    "input() can be used multiple times to read multiple lines."
   ]
  },
  {
   "cell_type": "code",
   "execution_count": 2,
   "metadata": {},
   "outputs": [
    {
     "name": "stdout",
     "output_type": "stream",
     "text": [
      "Age: 22 , City: islamabad\n"
     ]
    }
   ],
   "source": [
    "age = input(\"Enter your age: \")\n",
    "city = input(\"Enter your city: \")\n",
    "print(f\"Age: {age}, City: {city}\")"
   ]
  },
  {
   "cell_type": "markdown",
   "metadata": {},
   "source": [
    "Reading inputs using split():\n",
    "\n",
    "split() can be used to split a single input string into a list."
   ]
  },
  {
   "cell_type": "code",
   "execution_count": 3,
   "metadata": {},
   "outputs": [
    {
     "name": "stdout",
     "output_type": "stream",
     "text": [
      "Age: 22, City: islamabad\n"
     ]
    }
   ],
   "source": [
    "data = input(\"Enter your age and city separated by space: \").split()\n",
    "age, city = data\n",
    "print(f\"Age: {age}, City: {city}\")"
   ]
  },
  {
   "cell_type": "markdown",
   "metadata": {},
   "source": [
    "#### **Output Operations**\n",
    "Output operations in Python allow you to display data to the user. There are various ways to handle outputs:\n",
    "\n",
    "Using print() function:\n",
    "\n",
    "The print() function displays data to the console."
   ]
  },
  {
   "cell_type": "code",
   "execution_count": 4,
   "metadata": {},
   "outputs": [
    {
     "name": "stdout",
     "output_type": "stream",
     "text": [
      "Hellowwww Worlddddd\n"
     ]
    }
   ],
   "source": [
    "print(f\"Hellowwww Worlddddd\")"
   ]
  },
  {
   "cell_type": "markdown",
   "metadata": {},
   "source": [
    "Formatted String Literals (f-strings):\n",
    "\n",
    "Introduced in Python 3.6, f-strings provide a more readable and concise way to format strings."
   ]
  },
  {
   "cell_type": "code",
   "execution_count": 5,
   "metadata": {},
   "outputs": [
    {
     "name": "stdout",
     "output_type": "stream",
     "text": [
      "Name: Alice, Age: 25\n"
     ]
    }
   ],
   "source": [
    "name = \"Alice\"\n",
    "age = 25\n",
    "print(f\"Name: {name}, Age: {age}\")"
   ]
  },
  {
   "cell_type": "markdown",
   "metadata": {},
   "source": [
    "Using format() method:\n",
    "\n",
    "The format() method can be used to format strings similarly to f-strings."
   ]
  },
  {
   "cell_type": "code",
   "execution_count": 6,
   "metadata": {},
   "outputs": [
    {
     "name": "stdout",
     "output_type": "stream",
     "text": [
      "Name: Alice, Age: 25\n"
     ]
    }
   ],
   "source": [
    "name = \"Alice\"\n",
    "age = 25\n",
    "print(\"Name: {}, Age: {}\".format(name, age))"
   ]
  },
  {
   "cell_type": "markdown",
   "metadata": {},
   "source": [
    "#### **Reading and Writing to Files**\n",
    "For data engineering tasks, you'll often deal with files. Python provides functions for file I/O:\n",
    "\n",
    "**Reading from a file:**\n",
    "\n",
    "Open a file using open() with the 'r' mode for reading.\n"
   ]
  },
  {
   "cell_type": "code",
   "execution_count": 8,
   "metadata": {},
   "outputs": [
    {
     "name": "stdout",
     "output_type": "stream",
     "text": [
      "\n"
     ]
    }
   ],
   "source": [
    "with open('data.txt', 'r') as file:\n",
    "    content = file.read()\n",
    "    print(content)"
   ]
  },
  {
   "cell_type": "markdown",
   "metadata": {},
   "source": [
    "**Writing to a file:**\n",
    "\n",
    "Open a file using open() with the 'w' mode for writing."
   ]
  },
  {
   "cell_type": "code",
   "execution_count": 9,
   "metadata": {},
   "outputs": [],
   "source": [
    "with open('output.txt', 'w') as file:\n",
    "    file.write(\"This is some data.\")"
   ]
  },
  {
   "cell_type": "markdown",
   "metadata": {},
   "source": [
    "**Appending to a file:**\n",
    "\n",
    "Open a file with the 'a' mode to append data."
   ]
  },
  {
   "cell_type": "code",
   "execution_count": 10,
   "metadata": {},
   "outputs": [],
   "source": [
    "with open('output.txt', 'a') as file:\n",
    "    file.write(\"\\nThis is appended data.\")"
   ]
  },
  {
   "cell_type": "markdown",
   "metadata": {},
   "source": [
    "##### **Reading and Writing CSV Files**\n",
    "In data engineering, handling CSV files is very common:\n",
    "\n",
    "**Reading CSV files:**\n",
    "Use csv module for reading."
   ]
  },
  {
   "cell_type": "code",
   "execution_count": 12,
   "metadata": {},
   "outputs": [],
   "source": [
    "import csv\n",
    "with open('data.csv', mode='r') as file:\n",
    "    reader = csv.reader(file)\n",
    "    for row in reader:\n",
    "        print(row)"
   ]
  },
  {
   "cell_type": "markdown",
   "metadata": {},
   "source": [
    "**Writing CSV files:**\n",
    "\n",
    "Use csv.writer for writing."
   ]
  },
  {
   "cell_type": "code",
   "execution_count": 22,
   "metadata": {},
   "outputs": [
    {
     "name": "stdout",
     "output_type": "stream",
     "text": [
      "['Column1', 'Column2', 'Column3']\n",
      "['1', '2', '3']\n"
     ]
    }
   ],
   "source": [
    "\n",
    "import csv\n",
    "with open('output.csv', mode='w', newline='') as file:\n",
    "    value1 = 1\n",
    "    value2 = 2\n",
    "    value3 = 3\n",
    "    writer = csv.writer(file)\n",
    "    writer.writerow(['Column1', 'Column2', 'Column3'])\n",
    "    writer.writerow([value1, value2, value3])\n",
    "\n",
    "with open('output.csv', mode='r') as file1:\n",
    "    reading = csv.reader(file1)\n",
    "    for row in reading:\n",
    "        print(row)\n",
    "        \n"
   ]
  },
  {
   "cell_type": "markdown",
   "metadata": {},
   "source": [
    "#### When writing/reading a file, the newline argument can be used to control how newlines are written: ####\n",
    "\n",
    "- newline=None (default): This means that the file will automatically handle newline characters based on the platform.\n",
    "- newline='': Writes each line without adding an extra newline character. This can be useful if you are writing multiple lines at once and don’t want an additional newline at the end of the file.\n",
    "- newline='\\n': This will ensure that each line ends with a Unix-style newline, which is commonly used in UNIX-like systems.\n",
    "- newline='\\r\\n': This is typically used for Windows-style newline characters."
   ]
  }
 ],
 "metadata": {
  "kernelspec": {
   "display_name": "Python 3",
   "language": "python",
   "name": "python3"
  },
  "language_info": {
   "codemirror_mode": {
    "name": "ipython",
    "version": 3
   },
   "file_extension": ".py",
   "mimetype": "text/x-python",
   "name": "python",
   "nbconvert_exporter": "python",
   "pygments_lexer": "ipython3",
   "version": "3.13.0"
  }
 },
 "nbformat": 4,
 "nbformat_minor": 2
}
