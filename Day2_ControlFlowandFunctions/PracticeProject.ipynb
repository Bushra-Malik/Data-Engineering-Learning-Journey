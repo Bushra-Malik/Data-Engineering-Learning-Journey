{
 "cells": [
  {
   "cell_type": "code",
   "execution_count": 5,
   "metadata": {},
   "outputs": [
    {
     "name": "stdout",
     "output_type": "stream",
     "text": [
      "Exiting system...\n"
     ]
    }
   ],
   "source": [
    "import csv\n",
    "with open('student.csv', 'w') as file:\n",
    "    writer = csv.writer(file)\n",
    "    # count = True\n",
    "    # while count:\n",
    "    StudentID = input('Enter student ID: ')\n",
    "    Name = input('Enter student name: ')\n",
    "    Maths = input('Enter student marks in maths: ')\n",
    "    Science = input('Enter student marks in science: ')\n",
    "    English = input('Enter student marks in english: ')\n",
    "    writer.writerow([StudentID, Name, Maths, Science, English])\n",
    "    answer = input('Do you want to continue adding more students record? Y/N')\n",
    "if  answer == 'n' or 'N':\n",
    "    print(\"Exiting system...\")\n",
    "else:\n",
    "    print('Invalid input')\n",
    "\n",
    "    print('Student record saved successfully')\n",
    "    with open('student.csv', 'r') as file:\n",
    "        reader = csv.reader(file)\n",
    "        for row in reader:\n",
    "            print(row)\n",
    "        \n",
    "\n",
    "#     writer.writerow(['StudentID', 'Name', 'Math', 'Science', 'English'])\n",
    "#     writer.writerow(['001', 'Alice', '85', '92', '88'])\n",
    "#     writer.writerow(['002', 'Ahmed', '85', '92', '88'])\n",
    "#     writer.writerow(['003', 'Mustafa', '85', '92', '88'])\n",
    "#     writer.writerow(['004', 'Musa', '85', '92', '88'])\n",
    "#     writer.writerow(['005', 'Riswan', '85', '92', '88'])\n",
    "\n",
    "# with open('student.csv', 'r') as file:\n",
    "#     reader = csv.reader(file)\n",
    "#     for row in reader:\n",
    "#         print(row)\n",
    "\n",
    "# def read_student_data(filename):\n",
    "#     with open(filename, 'r') as file:\n",
    "#         reader = csv.reader(filename)\n",
    "#         data = list(reader)\n",
    "#         return data\n",
    "\n",
    "# r = read_student_data('student.csv')\n",
    "# for row in r:\n",
    "#     print(row)\n"
   ]
  }
 ],
 "metadata": {
  "kernelspec": {
   "display_name": "Python 3",
   "language": "python",
   "name": "python3"
  },
  "language_info": {
   "codemirror_mode": {
    "name": "ipython",
    "version": 3
   },
   "file_extension": ".py",
   "mimetype": "text/x-python",
   "name": "python",
   "nbconvert_exporter": "python",
   "pygments_lexer": "ipython3",
   "version": "3.13.0"
  }
 },
 "nbformat": 4,
 "nbformat_minor": 2
}
