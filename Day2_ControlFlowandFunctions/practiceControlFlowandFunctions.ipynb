{
 "cells": [
  {
   "cell_type": "markdown",
   "metadata": {},
   "source": [
    "##### **If-Else Conditions**\n",
    "If-else statements allow you to execute code blocks based on conditions. </br>\n",
    "structure: </br>\n",
    "    if condition: </br>\n",
    "        # Code block if condition is True  </br>\n",
    "    elif another_condition: </br>\n",
    "        # Code block if another_condition is True </br>\n",
    "    else: </br>\n",
    "        # Code block if none of the above conditions are True </br>"
   ]
  },
  {
   "cell_type": "code",
   "execution_count": null,
   "metadata": {},
   "outputs": [
    {
     "name": "stdout",
     "output_type": "stream",
     "text": [
      "0 is Zero\n"
     ]
    }
   ],
   "source": [
    "num = int(input(\"Enter a number to check if its positive, negative or zero\"))\n",
    "if num > 0:\n",
    "        print(f\"{num} is Positive\")\n",
    "elif num < 0:\n",
    "        print(f\"{num} is Negative\")\n",
    "else:\n",
    "        print(f\"{num} is Zero\")"
   ]
  },
  {
   "cell_type": "markdown",
   "metadata": {},
   "source": [
    "#### **Loops**\n",
    "**For Loop**\n",
    "Used to iterate over a sequence (e.g., list, range, or string).\n",
    "\n",
    "Syntax:\n",
    "for variable in sequence:\n",
    "    # Code block"
   ]
  },
  {
   "cell_type": "code",
   "execution_count": 10,
   "metadata": {},
   "outputs": [
    {
     "name": "stdout",
     "output_type": "stream",
     "text": [
      "1\n",
      "2\n",
      "3\n",
      "4\n",
      "5\n"
     ]
    }
   ],
   "source": [
    "# Print numbers 1 to 5\n",
    "for i in range(1, 6):\n",
    "    print(i)"
   ]
  },
  {
   "cell_type": "markdown",
   "metadata": {},
   "source": [
    "**While Loop**\n",
    "Repeats a block of code as long as a condition is True.\n",
    "\n",
    "Syntax:\n",
    "while condition:\n",
    "    # Code block"
   ]
  },
  {
   "cell_type": "code",
   "execution_count": 11,
   "metadata": {},
   "outputs": [
    {
     "name": "stdout",
     "output_type": "stream",
     "text": [
      "1\n",
      "2\n",
      "3\n",
      "4\n",
      "5\n"
     ]
    }
   ],
   "source": [
    "# Print numbers 1 to 5\n",
    "num = 1\n",
    "while num <= 5:\n",
    "    print(num)\n",
    "    num += 1"
   ]
  },
  {
   "cell_type": "markdown",
   "metadata": {},
   "source": [
    "**Functions**\n",
    "Functions allow you to write reusable code blocks.\n",
    "\n",
    "Defining a Function\n",
    "def function_name(parameters):\n",
    "    # Code block\n",
    "    return result"
   ]
  },
  {
   "cell_type": "code",
   "execution_count": 12,
   "metadata": {},
   "outputs": [
    {
     "name": "stdout",
     "output_type": "stream",
     "text": [
      "12\n"
     ]
    }
   ],
   "source": [
    "def sum ( num1,  num2) :\n",
    "    return num1 + num2\n",
    "print (sum (5, 7))  "
   ]
  },
  {
   "cell_type": "markdown",
   "metadata": {},
   "source": [
    "Functions with conditional Statments "
   ]
  },
  {
   "cell_type": "code",
   "execution_count": 13,
   "metadata": {},
   "outputs": [
    {
     "name": "stdout",
     "output_type": "stream",
     "text": [
      "120\n",
      "1\n",
      "Factorial is not defined for negative numbers.\n"
     ]
    }
   ],
   "source": [
    "def factorial(n):\n",
    "    if n < 0:\n",
    "        return \"Factorial is not defined for negative numbers.\"\n",
    "    result = 1\n",
    "    for i in range(1, n + 1):\n",
    "        result *= i\n",
    "    return result\n",
    "\n",
    "# Test the function\n",
    "print(factorial(5))  # Output: 120\n",
    "print(factorial(0))  # Output: 1\n",
    "print(factorial(-3))  # Output: Factorial is not defined for negative numbers.\n"
   ]
  },
  {
   "cell_type": "code",
   "execution_count": null,
   "metadata": {},
   "outputs": [],
   "source": [
    "def multiplication_table(number, up_to=20):\n",
    "    for i in range(1, up_to + 1):\n",
    "        print(f\"{number} x {i} = {number * i}\")\n",
    "\n",
    "# Test the function\n",
    "multiplication_table(5)"
   ]
  },
  {
   "cell_type": "code",
   "execution_count": 26,
   "metadata": {},
   "outputs": [
    {
     "name": "stdout",
     "output_type": "stream",
     "text": [
      "7 is not a prime number\n"
     ]
    }
   ],
   "source": [
    "def PrimeNumberCheck(num):\n",
    "    if num < 2:\n",
    "        return False\n",
    "    for i in range(2, int(num ** 0.5) + 1):\n",
    "        if num % i == 0:\n",
    "            return False\n",
    "    return True\n",
    "n = input(\"Enter a number to check if it is prime: \")\n",
    "if PrimeNumberCheck == False:\n",
    "    print(n,\"is a prime number\")\n",
    "else:\n",
    "    print(n,\"is not a prime number\")\n"
   ]
  },
  {
   "cell_type": "code",
   "execution_count": 34,
   "metadata": {},
   "outputs": [
    {
     "name": "stdout",
     "output_type": "stream",
     "text": [
      "Welcome to the Guessing Game\n",
      "I'm thinking of a number between 1 and 100\n",
      "Your Guess is wrong, the number was 95\n"
     ]
    }
   ],
   "source": [
    "import random \n",
    "randNumber = random.randint(1, 100)\n",
    "print(\"Welcome to the Guessing Game\")\n",
    "print(\"I'm thinking of a number between 1 and 100\")\n",
    "n = int(input(\"Guess a number : \"))\n",
    "ColorArray= ['red', 'green', 'blue','grey', 'orange', 'purple', 'pink', 'yellow', 'black']\n",
    "#radomly select a color from the array\n",
    "color = random.choice(ColorArray)\n",
    "if n == randNumber:\n",
    "    print(f\"Your Guess is right, the number was {randNumber} and the color you get is {color}\" )   \n",
    "else:\n",
    "    print(f\"Your Guess is wrong, the number was {randNumber}\")\n",
    "\n"
   ]
  }
 ],
 "metadata": {
  "kernelspec": {
   "display_name": "Python 3",
   "language": "python",
   "name": "python3"
  },
  "language_info": {
   "codemirror_mode": {
    "name": "ipython",
    "version": 3
   },
   "file_extension": ".py",
   "mimetype": "text/x-python",
   "name": "python",
   "nbconvert_exporter": "python",
   "pygments_lexer": "ipython3",
   "version": "3.13.0"
  }
 },
 "nbformat": 4,
 "nbformat_minor": 2
}
